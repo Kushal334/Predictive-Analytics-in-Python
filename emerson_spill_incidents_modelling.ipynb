{
 "cells": [
  {
   "cell_type": "code",
   "execution_count": 1,
   "metadata": {},
   "outputs": [
    {
     "name": "stderr",
     "output_type": "stream",
     "text": [
      "[nltk_data] Downloading package stopwords to\n",
      "[nltk_data]     C:\\Users\\Shubham\\AppData\\Roaming\\nltk_data...\n",
      "[nltk_data]   Package stopwords is already up-to-date!\n"
     ]
    }
   ],
   "source": [
    "# Common imports\n",
    "import pandas as pd\n",
    "import numpy as np\n",
    "import os\n",
    "import seaborn as sns\n",
    "import nltk\n",
    "from nltk.corpus import stopwords\n",
    "nltk.download('stopwords')\n",
    "import re\n",
    "import joblib\n",
    "\n",
    "# to make this notebook's output stable across runs\n",
    "np.random.seed(42)\n",
    "\n",
    "# To plot pretty figures\n",
    "%matplotlib inline\n",
    "import matplotlib as mpl\n",
    "import matplotlib.pyplot as plt\n",
    "mpl.rc('axes', labelsize=14)\n",
    "mpl.rc('xtick', labelsize=12)\n",
    "mpl.rc('ytick', labelsize=12)\n",
    "\n",
    "# Where to save the figures\n",
    "PROJECT_ROOT_DIR = \".\"\n",
    "IMAGES_PATH = os.path.join(PROJECT_ROOT_DIR, \"images\",)\n",
    "os.makedirs(IMAGES_PATH, exist_ok=True)\n",
    "\n",
    "def save_fig(fig_id, tight_layout=True, fig_extension=\"png\", resolution=300):\n",
    "    path = os.path.join(IMAGES_PATH, fig_id + \".\" + fig_extension)\n",
    "    print(\"Saving figure\", fig_id)\n",
    "    if tight_layout:\n",
    "        plt.tight_layout()\n",
    "    plt.savefig(path, format=fig_extension, dpi=resolution)"
   ]
  },
  {
   "cell_type": "markdown",
   "metadata": {},
   "source": [
    "#### Load data"
   ]
  },
  {
   "cell_type": "code",
   "execution_count": 2,
   "metadata": {},
   "outputs": [],
   "source": [
    "def load_data():\n",
    "    data = pd.read_csv('spill_incidents_sample.csv')\n",
    "    return data"
   ]
  },
  {
   "cell_type": "markdown",
   "metadata": {},
   "source": [
    "#### Create target variable\n",
    "- The dataset has a column “recovered”. Recovered can be greater than 0(YES) or equals to 0 (NO)."
   ]
  },
  {
   "cell_type": "code",
   "execution_count": 3,
   "metadata": {},
   "outputs": [],
   "source": [
    "def transform_target(df):\n",
    "    df['recovered'] = df['recovered'].apply(lambda x:1 if x >0 else 0)\n",
    "    return df\n",
    "\n",
    "data = load_data()\n",
    "data = transform_target(data)\n",
    "data.drop('Unnamed: 0', axis=1, inplace=True)\n",
    "data.to_csv('spill_incidents_sample_with_target.csv', index=False)\n"
   ]
  },
  {
   "cell_type": "markdown",
   "metadata": {},
   "source": [
    "#### Data overview"
   ]
  },
  {
   "cell_type": "code",
   "execution_count": 4,
   "metadata": {},
   "outputs": [
    {
     "data": {
      "text/html": [
       "<div>\n",
       "<style scoped>\n",
       "    .dataframe tbody tr th:only-of-type {\n",
       "        vertical-align: middle;\n",
       "    }\n",
       "\n",
       "    .dataframe tbody tr th {\n",
       "        vertical-align: top;\n",
       "    }\n",
       "\n",
       "    .dataframe thead th {\n",
       "        text-align: right;\n",
       "    }\n",
       "</style>\n",
       "<table border=\"1\" class=\"dataframe\">\n",
       "  <thead>\n",
       "    <tr style=\"text-align: right;\">\n",
       "      <th></th>\n",
       "      <th>spill_number</th>\n",
       "      <th>program_facility_name</th>\n",
       "      <th>street_1</th>\n",
       "      <th>street_2</th>\n",
       "      <th>locality</th>\n",
       "      <th>county</th>\n",
       "      <th>zip_code</th>\n",
       "      <th>swis_code</th>\n",
       "      <th>dec_region</th>\n",
       "      <th>spill_date</th>\n",
       "      <th>received_date</th>\n",
       "      <th>contributing_factor</th>\n",
       "      <th>waterbody</th>\n",
       "      <th>source</th>\n",
       "      <th>close_date</th>\n",
       "      <th>material_name</th>\n",
       "      <th>material_family</th>\n",
       "      <th>quantity</th>\n",
       "      <th>units</th>\n",
       "      <th>recovered</th>\n",
       "    </tr>\n",
       "  </thead>\n",
       "  <tbody>\n",
       "    <tr>\n",
       "      <th>187666</th>\n",
       "      <td>9707739</td>\n",
       "      <td>KIKARI DENTAL RT 30 AGWAY</td>\n",
       "      <td>4340 RT 30 NORTH</td>\n",
       "      <td>NaN</td>\n",
       "      <td>AMSTERDAM</td>\n",
       "      <td>Montgomery</td>\n",
       "      <td>NaN</td>\n",
       "      <td>2920</td>\n",
       "      <td>4</td>\n",
       "      <td>1997-09-30</td>\n",
       "      <td>1997-09-30</td>\n",
       "      <td>Tank Overfill</td>\n",
       "      <td>NaN</td>\n",
       "      <td>Tank Truck</td>\n",
       "      <td>1997-10-03</td>\n",
       "      <td>#2 fuel oil</td>\n",
       "      <td>Petroleum</td>\n",
       "      <td>0.0</td>\n",
       "      <td>Gallons</td>\n",
       "      <td>0</td>\n",
       "    </tr>\n",
       "    <tr>\n",
       "      <th>187667</th>\n",
       "      <td>1209420</td>\n",
       "      <td>POLE TOP</td>\n",
       "      <td>29 QUARRY LANE</td>\n",
       "      <td>NaN</td>\n",
       "      <td>BEDFORD</td>\n",
       "      <td>Westchester</td>\n",
       "      <td>NaN</td>\n",
       "      <td>6020</td>\n",
       "      <td>3</td>\n",
       "      <td>2012-11-06</td>\n",
       "      <td>2012-11-06</td>\n",
       "      <td>Storm</td>\n",
       "      <td>NaN</td>\n",
       "      <td>Transformer</td>\n",
       "      <td>2012-11-09</td>\n",
       "      <td>dielectric fluid</td>\n",
       "      <td>Petroleum</td>\n",
       "      <td>10.0</td>\n",
       "      <td>Gallons</td>\n",
       "      <td>0</td>\n",
       "    </tr>\n",
       "    <tr>\n",
       "      <th>187668</th>\n",
       "      <td>900797</td>\n",
       "      <td>CUMBERLAND FARMS #3141  RT 9 @ BOGHT RD LOUDON RD</td>\n",
       "      <td>1093 LOUDON RD RT 9 @ BOGHT RD</td>\n",
       "      <td>CUMBERLAND FARMS # 3141  1093 LOUDON RD</td>\n",
       "      <td>COHOES COLONIE</td>\n",
       "      <td>Albany</td>\n",
       "      <td>NaN</td>\n",
       "      <td>126</td>\n",
       "      <td>4</td>\n",
       "      <td>2009-04-21</td>\n",
       "      <td>2009-04-21</td>\n",
       "      <td>Other</td>\n",
       "      <td>NaN</td>\n",
       "      <td>Gasoline Station or other PBS Facility</td>\n",
       "      <td>2009-05-08</td>\n",
       "      <td>other  -  WATER</td>\n",
       "      <td>Other</td>\n",
       "      <td>0.0</td>\n",
       "      <td>Gallons</td>\n",
       "      <td>0</td>\n",
       "    </tr>\n",
       "  </tbody>\n",
       "</table>\n",
       "</div>"
      ],
      "text/plain": [
       "        spill_number                              program_facility_name  \\\n",
       "187666       9707739                          KIKARI DENTAL RT 30 AGWAY   \n",
       "187667       1209420                                           POLE TOP   \n",
       "187668        900797  CUMBERLAND FARMS #3141  RT 9 @ BOGHT RD LOUDON RD   \n",
       "\n",
       "                              street_1  \\\n",
       "187666                4340 RT 30 NORTH   \n",
       "187667                  29 QUARRY LANE   \n",
       "187668  1093 LOUDON RD RT 9 @ BOGHT RD   \n",
       "\n",
       "                                       street_2        locality       county  \\\n",
       "187666                                      NaN       AMSTERDAM   Montgomery   \n",
       "187667                                      NaN         BEDFORD  Westchester   \n",
       "187668  CUMBERLAND FARMS # 3141  1093 LOUDON RD  COHOES COLONIE       Albany   \n",
       "\n",
       "       zip_code  swis_code  dec_region  spill_date received_date  \\\n",
       "187666      NaN       2920           4  1997-09-30    1997-09-30   \n",
       "187667      NaN       6020           3  2012-11-06    2012-11-06   \n",
       "187668      NaN        126           4  2009-04-21    2009-04-21   \n",
       "\n",
       "       contributing_factor waterbody                                  source  \\\n",
       "187666       Tank Overfill       NaN                              Tank Truck   \n",
       "187667               Storm       NaN                             Transformer   \n",
       "187668               Other       NaN  Gasoline Station or other PBS Facility   \n",
       "\n",
       "        close_date     material_name material_family  quantity    units  \\\n",
       "187666  1997-10-03       #2 fuel oil       Petroleum       0.0  Gallons   \n",
       "187667  2012-11-09  dielectric fluid       Petroleum      10.0  Gallons   \n",
       "187668  2009-05-08   other  -  WATER           Other       0.0  Gallons   \n",
       "\n",
       "        recovered  \n",
       "187666          0  \n",
       "187667          0  \n",
       "187668          0  "
      ]
     },
     "execution_count": 4,
     "metadata": {},
     "output_type": "execute_result"
    }
   ],
   "source": [
    "data.tail(3)"
   ]
  },
  {
   "cell_type": "code",
   "execution_count": 5,
   "metadata": {},
   "outputs": [],
   "source": [
    "data.recovered = data.recovered.astype('category')"
   ]
  },
  {
   "cell_type": "code",
   "execution_count": 6,
   "metadata": {},
   "outputs": [
    {
     "data": {
      "text/html": [
       "<div>\n",
       "<style scoped>\n",
       "    .dataframe tbody tr th:only-of-type {\n",
       "        vertical-align: middle;\n",
       "    }\n",
       "\n",
       "    .dataframe tbody tr th {\n",
       "        vertical-align: top;\n",
       "    }\n",
       "\n",
       "    .dataframe thead th {\n",
       "        text-align: right;\n",
       "    }\n",
       "</style>\n",
       "<table border=\"1\" class=\"dataframe\">\n",
       "  <thead>\n",
       "    <tr style=\"text-align: right;\">\n",
       "      <th></th>\n",
       "      <th>spill_number</th>\n",
       "      <th>swis_code</th>\n",
       "      <th>dec_region</th>\n",
       "      <th>quantity</th>\n",
       "    </tr>\n",
       "  </thead>\n",
       "  <tbody>\n",
       "    <tr>\n",
       "      <th>count</th>\n",
       "      <td>1.876690e+05</td>\n",
       "      <td>187669.000000</td>\n",
       "      <td>187669.000000</td>\n",
       "      <td>1.876690e+05</td>\n",
       "    </tr>\n",
       "    <tr>\n",
       "      <th>mean</th>\n",
       "      <td>4.442654e+06</td>\n",
       "      <td>3478.814391</td>\n",
       "      <td>3.992956</td>\n",
       "      <td>5.350332e+05</td>\n",
       "    </tr>\n",
       "    <tr>\n",
       "      <th>std</th>\n",
       "      <td>4.208655e+06</td>\n",
       "      <td>1717.484381</td>\n",
       "      <td>2.593400</td>\n",
       "      <td>2.308367e+08</td>\n",
       "    </tr>\n",
       "    <tr>\n",
       "      <th>min</th>\n",
       "      <td>1.000000e+00</td>\n",
       "      <td>100.000000</td>\n",
       "      <td>1.000000</td>\n",
       "      <td>0.000000e+00</td>\n",
       "    </tr>\n",
       "    <tr>\n",
       "      <th>25%</th>\n",
       "      <td>7.069440e+05</td>\n",
       "      <td>2401.000000</td>\n",
       "      <td>2.000000</td>\n",
       "      <td>0.000000e+00</td>\n",
       "    </tr>\n",
       "    <tr>\n",
       "      <th>50%</th>\n",
       "      <td>1.511169e+06</td>\n",
       "      <td>3400.000000</td>\n",
       "      <td>3.000000</td>\n",
       "      <td>0.000000e+00</td>\n",
       "    </tr>\n",
       "    <tr>\n",
       "      <th>75%</th>\n",
       "      <td>9.211040e+06</td>\n",
       "      <td>5200.000000</td>\n",
       "      <td>6.000000</td>\n",
       "      <td>5.000000e+00</td>\n",
       "    </tr>\n",
       "    <tr>\n",
       "      <th>max</th>\n",
       "      <td>9.975754e+06</td>\n",
       "      <td>9500.000000</td>\n",
       "      <td>9.000000</td>\n",
       "      <td>1.000000e+11</td>\n",
       "    </tr>\n",
       "  </tbody>\n",
       "</table>\n",
       "</div>"
      ],
      "text/plain": [
       "       spill_number      swis_code     dec_region      quantity\n",
       "count  1.876690e+05  187669.000000  187669.000000  1.876690e+05\n",
       "mean   4.442654e+06    3478.814391       3.992956  5.350332e+05\n",
       "std    4.208655e+06    1717.484381       2.593400  2.308367e+08\n",
       "min    1.000000e+00     100.000000       1.000000  0.000000e+00\n",
       "25%    7.069440e+05    2401.000000       2.000000  0.000000e+00\n",
       "50%    1.511169e+06    3400.000000       3.000000  0.000000e+00\n",
       "75%    9.211040e+06    5200.000000       6.000000  5.000000e+00\n",
       "max    9.975754e+06    9500.000000       9.000000  1.000000e+11"
      ]
     },
     "execution_count": 6,
     "metadata": {},
     "output_type": "execute_result"
    }
   ],
   "source": [
    "data.describe()"
   ]
  },
  {
   "cell_type": "code",
   "execution_count": 7,
   "metadata": {},
   "outputs": [
    {
     "name": "stdout",
     "output_type": "stream",
     "text": [
      "+-------------------+----------------+-----------+\n",
      "| Number of Columns | Number of Rows | File Size |\n",
      "+-------------------+----------------+-----------+\n",
      "|         20        |     187669     |  35570195 |\n",
      "+-------------------+----------------+-----------+\n"
     ]
    }
   ],
   "source": [
    "from prettytable import PrettyTable\n",
    "x = PrettyTable()\n",
    "\n",
    "x.field_names = ['Number of Columns','Number of Rows', 'File Size']\n",
    "x.add_row([data.shape[1], data.shape[0], os.path.getsize('spill_incidents_sample.csv')])\n",
    "print(x)"
   ]
  },
  {
   "cell_type": "markdown",
   "metadata": {},
   "source": [
    "#### Column Type Counts"
   ]
  },
  {
   "cell_type": "code",
   "execution_count": 8,
   "metadata": {},
   "outputs": [
    {
     "name": "stdout",
     "output_type": "stream",
     "text": [
      "+--------------+-------+--------------------------------------------------------------------------------------------+\n",
      "| Feature type | Count |                                        Feature Name                                        |\n",
      "+--------------+-------+--------------------------------------------------------------------------------------------+\n",
      "|   Numeric    |   4   |                  ['spill_number', 'swis_code', 'dec_region', 'quantity']                   |\n",
      "|     Text     |   3   |                     ['program_facility_name', 'street_1', 'street_2']                      |\n",
      "| Categorical  |   9   |      ['locality', 'county', 'zip_code', 'contributing_factor', 'waterbody', 'source',      |\n",
      "|              |       |                        'material_name', 'material_family', 'units']                        |\n",
      "|     Date     |   3   |                       ['spill_date', 'received_date', 'close_date']                        |\n",
      "+--------------+-------+--------------------------------------------------------------------------------------------+\n"
     ]
    }
   ],
   "source": [
    "from dateutil.parser import parse\n",
    "\n",
    "def check_is_categorical(df, col):\n",
    "    unique_samples = len(df[col].unique())\n",
    "    total_samples = df[col].shape[0]\n",
    "    pct_diff = round((total_samples - unique_samples) / total_samples * 100,2)\n",
    "#     print(pct_diff)\n",
    "    if pct_diff <= 94:\n",
    "        return [False,col] # not categorical\n",
    "    else:\n",
    "        return [True, col]  # categorical\n",
    "    \n",
    "def check_is_date(df, col):\n",
    "    string = df[col].dropna().unique()[0]\n",
    "    try: \n",
    "        parse(string, fuzzy=False)\n",
    "        return [True, col]\n",
    "\n",
    "    except ValueError:\n",
    "        return [False, col]\n",
    "    \n",
    "    \n",
    "def get_column_type(df):\n",
    "    categorical_features = []\n",
    "    text_features = []\n",
    "    numeric = list(data.select_dtypes(['int64','float64']).columns)\n",
    "    types = {'Numeric':[len(data.select_dtypes(['int64','float64']).count()), numeric],\\\n",
    "             'Text':[0,[]],'Categorical':[0,[]], 'Date':[0,[]]}\n",
    "\n",
    "    for col in df.columns:\n",
    "        sample = df[col].dropna().unique()[0]\n",
    "        if isinstance(sample, str):\n",
    "            res = check_is_date(df, col)\n",
    "            if res[0]:\n",
    "                types['Date'][0] +=1\n",
    "                types['Date'][1].append(col)\n",
    "            else:\n",
    "                res = check_is_categorical(df, col)\n",
    "                if res[0]:\n",
    "                    types['Categorical'][0] += 1\n",
    "                    types['Categorical'][1].append(col)\n",
    "                    categorical_features.append(col)\n",
    "                else:\n",
    "                    types['Text'][0] += 1\n",
    "                    types['Text'][1].append(col)\n",
    "                    text_features.append(col)\n",
    "    return types, numeric, categorical_features, text_features\n",
    "\n",
    "\n",
    "x = PrettyTable()\n",
    "\n",
    "column_type_count, numerical_features, categorical_features, text_features = get_column_type(data)\n",
    "x.field_names = ['Feature type', 'Count', 'Feature Name']\n",
    "x._max_width = {\"Feature type\":3, \"Count\":3,\"Feature Name\":90}\n",
    "for k,v in column_type_count.items():\n",
    "    x.add_row([k,v[0],v[1]])\n",
    "print(x)"
   ]
  },
  {
   "cell_type": "markdown",
   "metadata": {},
   "source": [
    "### Data completeness"
   ]
  },
  {
   "cell_type": "code",
   "execution_count": 9,
   "metadata": {},
   "outputs": [],
   "source": [
    "def calc_data_nullity(df):\n",
    "    df_nullity = df.isnull()\n",
    "    missing_values_sum = df_nullity.sum()\n",
    "    missing_values_percent = df_nullity.mean() * 100\n",
    "    return missing_values_sum, missing_values_percent\n",
    "\n",
    "missing_values_sum, missing_values_percent = calc_data_nullity(data)\n"
   ]
  },
  {
   "cell_type": "markdown",
   "metadata": {},
   "source": [
    "#### Total Missing Values"
   ]
  },
  {
   "cell_type": "code",
   "execution_count": 10,
   "metadata": {},
   "outputs": [
    {
     "name": "stdout",
     "output_type": "stream",
     "text": [
      "Total Missing Values\n",
      "+-----------------------+----------------------+\n",
      "|         Column        | Missing values Count |\n",
      "+-----------------------+----------------------+\n",
      "|      spill_number     |          0           |\n",
      "| program_facility_name |          3           |\n",
      "|        street_1       |          53          |\n",
      "|        street_2       |        172775        |\n",
      "|        locality       |         389          |\n",
      "|         county        |          0           |\n",
      "|        zip_code       |        171173        |\n",
      "|       swis_code       |          0           |\n",
      "|       dec_region      |          0           |\n",
      "|       spill_date      |          57          |\n",
      "|     received_date     |          0           |\n",
      "|  contributing_factor  |          0           |\n",
      "|       waterbody       |        170995        |\n",
      "|         source        |          0           |\n",
      "|       close_date      |         4302         |\n",
      "|     material_name     |          0           |\n",
      "|    material_family    |          0           |\n",
      "|        quantity       |          0           |\n",
      "|         units         |        29813         |\n",
      "|       recovered       |          0           |\n",
      "+-----------------------+----------------------+\n"
     ]
    }
   ],
   "source": [
    "x = PrettyTable()\n",
    "print('Total Missing Values')\n",
    "x.field_names = ['Column', 'Missing values Count']      \n",
    "for k,v in missing_values_sum.to_dict().items():\n",
    "    x.add_row([k,v])\n",
    "print(x)              "
   ]
  },
  {
   "cell_type": "markdown",
   "metadata": {},
   "source": [
    "#### Percentage of Missing Values"
   ]
  },
  {
   "cell_type": "code",
   "execution_count": 11,
   "metadata": {},
   "outputs": [
    {
     "name": "stdout",
     "output_type": "stream",
     "text": [
      "Total Missing Values\n",
      "+-----------------------+---------------------------+\n",
      "|         Column        | Missing values Percentage |\n",
      "+-----------------------+---------------------------+\n",
      "|      spill_number     |            0.0            |\n",
      "| program_facility_name |            0.0            |\n",
      "|        street_1       |            0.03           |\n",
      "|        street_2       |           92.06           |\n",
      "|        locality       |            0.21           |\n",
      "|         county        |            0.0            |\n",
      "|        zip_code       |           91.21           |\n",
      "|       swis_code       |            0.0            |\n",
      "|       dec_region      |            0.0            |\n",
      "|       spill_date      |            0.03           |\n",
      "|     received_date     |            0.0            |\n",
      "|  contributing_factor  |            0.0            |\n",
      "|       waterbody       |           91.12           |\n",
      "|         source        |            0.0            |\n",
      "|       close_date      |            2.29           |\n",
      "|     material_name     |            0.0            |\n",
      "|    material_family    |            0.0            |\n",
      "|        quantity       |            0.0            |\n",
      "|         units         |           15.89           |\n",
      "|       recovered       |            0.0            |\n",
      "+-----------------------+---------------------------+\n"
     ]
    }
   ],
   "source": [
    "x = PrettyTable()\n",
    "print('Total Missing Values')\n",
    "x.field_names = ['Column', 'Missing values Percentage']      \n",
    "for k,v in missing_values_percent.to_dict().items():\n",
    "    x.add_row([k,round(v,2)])\n",
    "print(x)              "
   ]
  },
  {
   "cell_type": "markdown",
   "metadata": {},
   "source": [
    "- Columns **`street_2, zip_code, waterbody`** have the highest number of missing values\n",
    "- Since more than 90% values are missing, its better to drop these columns"
   ]
  },
  {
   "cell_type": "markdown",
   "metadata": {},
   "source": [
    "#### Visualize missingness"
   ]
  },
  {
   "cell_type": "code",
   "execution_count": 12,
   "metadata": {},
   "outputs": [
    {
     "data": {
      "text/plain": [
       "<AxesSubplot:>"
      ]
     },
     "execution_count": 12,
     "metadata": {},
     "output_type": "execute_result"
    },
    {
     "data": {
      "image/png": "[encoded data removed]",
      "text/plain": [
       "<Figure size 1728x720 with 3 Axes>"
      ]
     },
     "metadata": {
      "needs_background": "light"
     },
     "output_type": "display_data"
    }
   ],
   "source": [
    "import missingno as msno\n",
    "import matplotlib.pyplot as plt\n",
    "%matplotlib inline\n",
    "\n",
    "# Plot amount of missingness\n",
    "msno.bar(data)"
   ]
  },
  {
   "cell_type": "markdown",
   "metadata": {},
   "source": [
    "#### Drop columns with  >90% missing values **`street_2, zip_code, waterbody`**"
   ]
  },
  {
   "cell_type": "code",
   "execution_count": 13,
   "metadata": {},
   "outputs": [
    {
     "data": {
      "text/html": [
       "<div>\n",
       "<style scoped>\n",
       "    .dataframe tbody tr th:only-of-type {\n",
       "        vertical-align: middle;\n",
       "    }\n",
       "\n",
       "    .dataframe tbody tr th {\n",
       "        vertical-align: top;\n",
       "    }\n",
       "\n",
       "    .dataframe thead th {\n",
       "        text-align: right;\n",
       "    }\n",
       "</style>\n",
       "<table border=\"1\" class=\"dataframe\">\n",
       "  <thead>\n",
       "    <tr style=\"text-align: right;\">\n",
       "      <th></th>\n",
       "      <th>spill_number</th>\n",
       "      <th>program_facility_name</th>\n",
       "      <th>street_1</th>\n",
       "      <th>locality</th>\n",
       "      <th>county</th>\n",
       "      <th>swis_code</th>\n",
       "      <th>dec_region</th>\n",
       "      <th>spill_date</th>\n",
       "      <th>received_date</th>\n",
       "      <th>contributing_factor</th>\n",
       "      <th>source</th>\n",
       "      <th>close_date</th>\n",
       "      <th>material_name</th>\n",
       "      <th>material_family</th>\n",
       "      <th>quantity</th>\n",
       "      <th>units</th>\n",
       "      <th>recovered</th>\n",
       "    </tr>\n",
       "  </thead>\n",
       "  <tbody>\n",
       "    <tr>\n",
       "      <th>187667</th>\n",
       "      <td>1209420</td>\n",
       "      <td>POLE TOP</td>\n",
       "      <td>29 QUARRY LANE</td>\n",
       "      <td>BEDFORD</td>\n",
       "      <td>Westchester</td>\n",
       "      <td>6020</td>\n",
       "      <td>3</td>\n",
       "      <td>2012-11-06</td>\n",
       "      <td>2012-11-06</td>\n",
       "      <td>Storm</td>\n",
       "      <td>Transformer</td>\n",
       "      <td>2012-11-09</td>\n",
       "      <td>dielectric fluid</td>\n",
       "      <td>Petroleum</td>\n",
       "      <td>10.0</td>\n",
       "      <td>Gallons</td>\n",
       "      <td>0</td>\n",
       "    </tr>\n",
       "    <tr>\n",
       "      <th>187668</th>\n",
       "      <td>900797</td>\n",
       "      <td>CUMBERLAND FARMS #3141  RT 9 @ BOGHT RD LOUDON RD</td>\n",
       "      <td>1093 LOUDON RD RT 9 @ BOGHT RD</td>\n",
       "      <td>COHOES COLONIE</td>\n",
       "      <td>Albany</td>\n",
       "      <td>126</td>\n",
       "      <td>4</td>\n",
       "      <td>2009-04-21</td>\n",
       "      <td>2009-04-21</td>\n",
       "      <td>Other</td>\n",
       "      <td>Gasoline Station or other PBS Facility</td>\n",
       "      <td>2009-05-08</td>\n",
       "      <td>other  -  WATER</td>\n",
       "      <td>Other</td>\n",
       "      <td>0.0</td>\n",
       "      <td>Gallons</td>\n",
       "      <td>0</td>\n",
       "    </tr>\n",
       "  </tbody>\n",
       "</table>\n",
       "</div>"
      ],
      "text/plain": [
       "        spill_number                              program_facility_name  \\\n",
       "187667       1209420                                           POLE TOP   \n",
       "187668        900797  CUMBERLAND FARMS #3141  RT 9 @ BOGHT RD LOUDON RD   \n",
       "\n",
       "                              street_1        locality       county  \\\n",
       "187667                  29 QUARRY LANE         BEDFORD  Westchester   \n",
       "187668  1093 LOUDON RD RT 9 @ BOGHT RD  COHOES COLONIE       Albany   \n",
       "\n",
       "        swis_code  dec_region  spill_date received_date contributing_factor  \\\n",
       "187667       6020           3  2012-11-06    2012-11-06               Storm   \n",
       "187668        126           4  2009-04-21    2009-04-21               Other   \n",
       "\n",
       "                                        source  close_date     material_name  \\\n",
       "187667                             Transformer  2012-11-09  dielectric fluid   \n",
       "187668  Gasoline Station or other PBS Facility  2009-05-08   other  -  WATER   \n",
       "\n",
       "       material_family  quantity    units recovered  \n",
       "187667       Petroleum      10.0  Gallons         0  \n",
       "187668           Other       0.0  Gallons         0  "
      ]
     },
     "execution_count": 13,
     "metadata": {},
     "output_type": "execute_result"
    }
   ],
   "source": [
    "data_dropped_missing = data.drop(['street_2', 'zip_code', 'waterbody'], axis=1)\n",
    "data_dropped_missing.tail(2)"
   ]
  },
  {
   "cell_type": "markdown",
   "metadata": {},
   "source": [
    "# Check for Anomalies in Dates data\n",
    "\n",
    "##### 1. Logically `close_date` should not be less than `received_date` or `spill_date`"
   ]
  },
  {
   "cell_type": "code",
   "execution_count": 14,
   "metadata": {},
   "outputs": [
    {
     "data": {
      "text/plain": [
       "(186701, 17)"
      ]
     },
     "execution_count": 14,
     "metadata": {},
     "output_type": "execute_result"
    }
   ],
   "source": [
    "data_dropped_validate = data_dropped_missing.copy()\n",
    "data_dropped_validate.close_date = pd.to_datetime(data_dropped_validate.close_date)\n",
    "data_dropped_validate.received_date = pd.to_datetime(data_dropped_validate.received_date)\n",
    "data_dropped_validate.spill_date = pd.to_datetime(data_dropped_validate.spill_date)\n",
    "\n",
    "## get indices where close date less than received date\n",
    "anomaly_indexes = data_dropped_validate[data_dropped_validate['close_date'] < data_dropped_validate['received_date']].index\n",
    "data_dropped_missing = data_dropped_missing.drop(anomaly_indexes)\n",
    "data_dropped_missing.shape"
   ]
  },
  {
   "cell_type": "markdown",
   "metadata": {},
   "source": [
    "## Treat missing values\n",
    "### Details of missing numbers"
   ]
  },
  {
   "cell_type": "code",
   "execution_count": 15,
   "metadata": {},
   "outputs": [
    {
     "data": {
      "text/plain": [
       "spill_number                 0\n",
       "program_facility_name        3\n",
       "street_1                    53\n",
       "locality                   285\n",
       "county                       0\n",
       "swis_code                    0\n",
       "dec_region                   0\n",
       "spill_date                  57\n",
       "received_date                0\n",
       "contributing_factor          0\n",
       "source                       0\n",
       "close_date                4302\n",
       "material_name                0\n",
       "material_family              0\n",
       "quantity                     0\n",
       "units                    29684\n",
       "recovered                    0\n",
       "dtype: int64"
      ]
     },
     "execution_count": 15,
     "metadata": {},
     "output_type": "execute_result"
    }
   ],
   "source": [
    "data_dropped_missing.isna().sum()"
   ]
  },
  {
   "cell_type": "markdown",
   "metadata": {},
   "source": [
    "### Below are  imputation strategies \n",
    "##### 1. Impute `program_facility_name` with `contributing factor `\n",
    "##### 2. Impute `street_1` with `country `\n",
    "##### 3. Impute `locality` with `country `\n",
    "##### 4. Impute `spill_date` with `received_date`\n",
    "##### 5. Impute `close_date` with `spill_date`\n",
    "##### 6. Impute `units` with `pounds`\n",
    "- On analysis found that most of the quantity values are 0 for missing `units`"
   ]
  },
  {
   "cell_type": "code",
   "execution_count": 16,
   "metadata": {},
   "outputs": [],
   "source": [
    "# Impute `program_facility_name` with `contributing factor`\n",
    "data_dropped_missing.loc[data_dropped_missing['program_facility_name'].isnull(),'program_facility_name'] = data_dropped_missing['contributing_factor']\n",
    "\n",
    "# Impute `street_1` with `country`\n",
    "data_dropped_missing.loc[data_dropped_missing['street_1'].isnull(),'street_1'] = data_dropped_missing['county']\n",
    "\n",
    "# Impute `locality` with `country`\n",
    "data_dropped_missing.loc[data_dropped_missing['locality'].isnull(),'locality'] = data_dropped_missing['county']\n",
    "\n",
    "# Impute `spill_date` with `received_date`\n",
    "data_dropped_missing.loc[data_dropped_missing['spill_date'].isnull(),'spill_date'] = data_dropped_missing['received_date']\n",
    "\n",
    "# Impute `close_date` with `spill_date`\n",
    "data_dropped_missing.loc[data_dropped_missing['close_date'].isnull(),'close_date'] = data_dropped_missing['spill_date']\n",
    "\n",
    "# Impute `units` with `pounds`\n",
    "data_dropped_missing.loc[data_dropped_missing['units'].isnull(),'units'] = 'Pounds'"
   ]
  },
  {
   "cell_type": "markdown",
   "metadata": {},
   "source": [
    "#### Check for null values after imputation"
   ]
  },
  {
   "cell_type": "code",
   "execution_count": 17,
   "metadata": {},
   "outputs": [
    {
     "data": {
      "text/plain": [
       "spill_number             0\n",
       "program_facility_name    0\n",
       "street_1                 0\n",
       "locality                 0\n",
       "county                   0\n",
       "swis_code                0\n",
       "dec_region               0\n",
       "spill_date               0\n",
       "received_date            0\n",
       "contributing_factor      0\n",
       "source                   0\n",
       "close_date               0\n",
       "material_name            0\n",
       "material_family          0\n",
       "quantity                 0\n",
       "units                    0\n",
       "recovered                0\n",
       "dtype: int64"
      ]
     },
     "execution_count": 17,
     "metadata": {},
     "output_type": "execute_result"
    }
   ],
   "source": [
    "data_dropped_missing.isna().sum()"
   ]
  },
  {
   "cell_type": "markdown",
   "metadata": {},
   "source": [
    "#### Preprocess text features"
   ]
  },
  {
   "cell_type": "code",
   "execution_count": 18,
   "metadata": {},
   "outputs": [],
   "source": [
    "stop_words = set(stopwords.words('english'))\n",
    "\n",
    "def remove_stopwords(x):\n",
    "    d = [\"\".join(word) for word in x.split() if word not in stop_words]\n",
    "    return d\n",
    "\n",
    "data_dropped_missing['program_facility_name'] = data_dropped_missing['program_facility_name'].apply(lambda x:re.sub('[^a-zA-Z0-9\\n]', ' ', x))\n",
    "data_dropped_missing['program_facility_name'] = data_dropped_missing['program_facility_name'].apply(lambda x:re.sub('\\s+',' ', x))\n",
    "data_dropped_missing['program_facility_name'] = data_dropped_missing['program_facility_name'].apply(lambda x:x.lower())\n",
    "data_dropped_missing['program_facility_name'] = data_dropped_missing['program_facility_name'].apply(lambda x:' '.join(list(map(remove_stopwords, [x]))[0]))\n",
    "\n",
    "data_dropped_missing['street_1'] = data_dropped_missing['street_1'].apply(lambda x:re.sub('[^a-zA-Z0-9\\n]', ' ', x))\n",
    "data_dropped_missing['street_1'] = data_dropped_missing['street_1'].apply(lambda x:re.sub('\\s+',' ', x))\n",
    "data_dropped_missing['street_1'] = data_dropped_missing['street_1'].apply(lambda x:x.lower())\n",
    "data_dropped_missing['street_1'] = data_dropped_missing['street_1'].apply(lambda x:' '.join(list(map(remove_stopwords, [x]))[0]))"
   ]
  },
  {
   "cell_type": "markdown",
   "metadata": {},
   "source": [
    "#### Check for class imbalance if any"
   ]
  },
  {
   "cell_type": "code",
   "execution_count": 19,
   "metadata": {},
   "outputs": [
    {
     "data": {
      "text/plain": [
       "0    164581\n",
       "1     22120\n",
       "Name: recovered, dtype: int64"
      ]
     },
     "execution_count": 19,
     "metadata": {},
     "output_type": "execute_result"
    }
   ],
   "source": [
    "data_dropped_missing['recovered'].value_counts()"
   ]
  },
  {
   "cell_type": "code",
   "execution_count": 20,
   "metadata": {},
   "outputs": [
    {
     "data": {
      "image/png": "[encoded data removed]",
      "text/plain": [
       "<Figure size 432x288 with 1 Axes>"
      ]
     },
     "metadata": {
      "needs_background": "light"
     },
     "output_type": "display_data"
    }
   ],
   "source": [
    "ax = sns.countplot(x=\"recovered\", hue=\"recovered\", data=data_dropped_missing)"
   ]
  },
  {
   "cell_type": "markdown",
   "metadata": {},
   "source": [
    "- There is a class imbalance in the target varaible"
   ]
  },
  {
   "cell_type": "code",
   "execution_count": 21,
   "metadata": {},
   "outputs": [
    {
     "name": "stdout",
     "output_type": "stream",
     "text": [
      "Saving figure attribute_histogram_plots\n"
     ]
    },
    {
     "data": {
      "image/png": "[encoded data removed]",
      "text/plain": [
       "<Figure size 1440x1080 with 4 Axes>"
      ]
     },
     "metadata": {
      "needs_background": "light"
     },
     "output_type": "display_data"
    }
   ],
   "source": [
    "%matplotlib inline\n",
    "import matplotlib.pyplot as plt\n",
    "data_dropped_missing.hist(bins=50, figsize=(20,15))\n",
    "save_fig(\"attribute_histogram_plots\")\n",
    "plt.show()"
   ]
  },
  {
   "cell_type": "code",
   "execution_count": 22,
   "metadata": {},
   "outputs": [],
   "source": [
    "# to make this notebook's output identical at every run\n",
    "np.random.seed(42)"
   ]
  },
  {
   "cell_type": "markdown",
   "metadata": {},
   "source": [
    "#### Check correlations"
   ]
  },
  {
   "cell_type": "code",
   "execution_count": 23,
   "metadata": {},
   "outputs": [
    {
     "data": {
      "text/html": [
       "<div>\n",
       "<style scoped>\n",
       "    .dataframe tbody tr th:only-of-type {\n",
       "        vertical-align: middle;\n",
       "    }\n",
       "\n",
       "    .dataframe tbody tr th {\n",
       "        vertical-align: top;\n",
       "    }\n",
       "\n",
       "    .dataframe thead th {\n",
       "        text-align: right;\n",
       "    }\n",
       "</style>\n",
       "<table border=\"1\" class=\"dataframe\">\n",
       "  <thead>\n",
       "    <tr style=\"text-align: right;\">\n",
       "      <th></th>\n",
       "      <th>spill_number</th>\n",
       "      <th>swis_code</th>\n",
       "      <th>dec_region</th>\n",
       "      <th>quantity</th>\n",
       "    </tr>\n",
       "  </thead>\n",
       "  <tbody>\n",
       "    <tr>\n",
       "      <th>spill_number</th>\n",
       "      <td>1.000000</td>\n",
       "      <td>-0.058086</td>\n",
       "      <td>0.044208</td>\n",
       "      <td>-0.001498</td>\n",
       "    </tr>\n",
       "    <tr>\n",
       "      <th>swis_code</th>\n",
       "      <td>-0.058086</td>\n",
       "      <td>1.000000</td>\n",
       "      <td>-0.302013</td>\n",
       "      <td>-0.004517</td>\n",
       "    </tr>\n",
       "    <tr>\n",
       "      <th>dec_region</th>\n",
       "      <td>0.044208</td>\n",
       "      <td>-0.302013</td>\n",
       "      <td>1.000000</td>\n",
       "      <td>0.000008</td>\n",
       "    </tr>\n",
       "    <tr>\n",
       "      <th>quantity</th>\n",
       "      <td>-0.001498</td>\n",
       "      <td>-0.004517</td>\n",
       "      <td>0.000008</td>\n",
       "      <td>1.000000</td>\n",
       "    </tr>\n",
       "  </tbody>\n",
       "</table>\n",
       "</div>"
      ],
      "text/plain": [
       "              spill_number  swis_code  dec_region  quantity\n",
       "spill_number      1.000000  -0.058086    0.044208 -0.001498\n",
       "swis_code        -0.058086   1.000000   -0.302013 -0.004517\n",
       "dec_region        0.044208  -0.302013    1.000000  0.000008\n",
       "quantity         -0.001498  -0.004517    0.000008  1.000000"
      ]
     },
     "execution_count": 23,
     "metadata": {},
     "output_type": "execute_result"
    }
   ],
   "source": [
    "corr_matrix = data_dropped_missing.corr()\n",
    "corr_matrix"
   ]
  },
  {
   "cell_type": "code",
   "execution_count": 24,
   "metadata": {},
   "outputs": [
    {
     "name": "stdout",
     "output_type": "stream",
     "text": [
      "Saving figure scatter_matrix_plot\n"
     ]
    },
    {
     "data": {
      "image/png": "[encoded data removed]",
      "text/plain": [
       "<Figure size 864x576 with 16 Axes>"
      ]
     },
     "metadata": {
      "needs_background": "light"
     },
     "output_type": "display_data"
    }
   ],
   "source": [
    "from pandas.plotting import scatter_matrix\n",
    "\n",
    "\n",
    "scatter_matrix(data_dropped_missing[numerical_features], figsize=(12, 8))\n",
    "save_fig(\"scatter_matrix_plot\")"
   ]
  },
  {
   "cell_type": "markdown",
   "metadata": {},
   "source": [
    "## Feature Engineering / Transformations"
   ]
  },
  {
   "cell_type": "markdown",
   "metadata": {},
   "source": [
    "### Feature binning : `quantity`\n",
    "#### Since `quantity` , `contributing_factor`, `program_facility_name` are important features , ensure its distributed properly in the test set. Since `quantity` is a continuos feature, so create its categories first"
   ]
  },
  {
   "cell_type": "markdown",
   "metadata": {},
   "source": [
    "#### Quantity spilled Unique values "
   ]
  },
  {
   "cell_type": "code",
   "execution_count": 25,
   "metadata": {},
   "outputs": [
    {
     "data": {
      "text/plain": [
       "array(['0.00000', '0.01000', '0.02000', '0.03000', '0.04000', '0.05000',\n",
       "       '0.06000', '0.07000', '0.08000', '0.09000', '0.10000', '0.12000',\n",
       "       '0.13000', '0.14000', '0.15000', '0.16000', '0.17000', '0.18000',\n",
       "       '0.19000', '0.20000', '0.25000', '0.26000', '0.30000', '0.31000',\n",
       "       '0.32000', '0.33000', '0.36000', '0.37000', '0.38000', '0.40000',\n",
       "       '0.45000', '0.49000', '0.50000', '0.60000', '0.63000', '0.70000',\n",
       "       '0.75000', '0.78000', '0.80000', '0.90000', '0.99000', '1.00000',\n",
       "       '1.01000', '1.10000', '1.20000', '1.23000', '1.25000', '1.40000',\n",
       "       '1.50000', '1.60000', '1.70000', '1.75000', '1.80000', '1.90000',\n",
       "       '2.00000', '2.10000', '2.20000', '2.25000', '2.30000', '2.40000',\n",
       "       '2.50000', '2.58000', '2.75000', '2.78000', '2.80000', '2.90000',\n",
       "       '3.00000', '3.13000', '3.50000', '3.59000', '3.60000', '3.70000',\n",
       "       '3.80000', '3.90000', '4.00000', '4.13000', '4.20000', '4.40000',\n",
       "       '4.50000', '4.60000', '4.70000', '4.80000', '4.90000', '5.00000',\n",
       "       '5.10000', '5.25000', '5.30000', '5.40000', '5.50000', '5.52000',\n",
       "       '5.60000', '5.77000', '5.80000', '6.00000', '6.10000', '6.11000',\n",
       "       '6.20000', '6.50000', '6.70000', '6.94000', '7.00000', '7.06000',\n",
       "       '7.30000', '7.50000', '7.99000', '8.00000', '8.30000', '8.50000',\n",
       "       '8.60000', '8.75000', '8.90000', '9.00000', '9.13000', '9.30000',\n",
       "       '9.40000', '9.50000', '9.60000', '9.70000', '9.80000', '10.00000',\n",
       "       '10.10000', '10.30000', '10.50000', '10.59000', '10.60000',\n",
       "       '11.00000', '11.50000', '11.70000', '12.00000', '12.10000',\n",
       "       '12.30000', '12.50000', '12.60000', '13.00000', '13.10000',\n",
       "       '13.50000', '13.73000', '14.00000', '14.20000', '14.50000',\n",
       "       '15.00000', '15.50000', '15.51000', '16.00000', '16.30000',\n",
       "       '17.00000', '17.20000', '17.50000', '17.60000', '18.00000',\n",
       "       '18.80000', '19.00000', '19.50000', '20.00000', '21.00000',\n",
       "       '21.56000', '21.88000', '22.00000', '22.50000', '23.00000',\n",
       "       '24.00000', '25.00000', '26.00000', '27.00000', '27.50000',\n",
       "       '28.00000', '28.70000', '28.80000', '28.88000', '29.00000',\n",
       "       '30.00000', '31.00000', '31.50000', '32.00000', '32.50000',\n",
       "       '32.70000', '33.00000', '33.94000', '34.00000', '34.60000',\n",
       "       '35.00000', '36.00000', '36.77000', '37.00000', '37.50000',\n",
       "       '38.00000', '39.00000', '40.00000', '40.25000', '41.00000',\n",
       "       '42.00000', '43.00000', '43.10000', '43.40000', '43.50000',\n",
       "       '44.00000', '45.00000', '46.00000', '47.00000', '48.00000',\n",
       "       '49.00000', '50.00000', '51.00000', '52.00000', '53.00000',\n",
       "       '54.00000', '54.30000', '55.00000', '56.00000', '57.00000',\n",
       "       '57.90000', '58.00000', '59.00000', '60.00000', '61.00000',\n",
       "       '62.00000', '63.00000', '64.00000', '65.00000', '66.00000',\n",
       "       '67.00000', '68.00000', '70.00000', '71.00000', '72.00000',\n",
       "       '73.00000', '74.00000', '74.50000', '75.00000', '75.50000',\n",
       "       '76.00000', '77.00000', '78.00000', '79.00000', '80.00000',\n",
       "       '81.00000', '81.30000', '82.00000', '83.00000', '83.40000',\n",
       "       '84.00000', '85.00000', '86.00000', '86.50000', '87.00000',\n",
       "       '88.00000', '89.00000', '90.00000', '90.50000', '91.00000',\n",
       "       '92.00000', '93.00000', '94.00000', '95.00000', '96.00000',\n",
       "       '97.00000', '98.00000', '99.00000', '100.00000', '100.50000',\n",
       "       '101.00000', '102.00000', '102.30000', '103.00000', '104.00000',\n",
       "       '105.00000', '106.00000', '107.00000', '108.00000', '109.00000',\n",
       "       '110.00000', '111.00000', '112.00000', '113.00000', '114.00000',\n",
       "       '115.00000', '116.00000', '117.00000', '118.00000', '119.00000',\n",
       "       '120.00000', '121.00000', '122.00000', '123.00000', '124.00000',\n",
       "       '125.00000', '126.00000', '128.00000', '129.00000', '130.00000',\n",
       "       '131.00000', '132.00000', '133.00000', '134.00000', '135.00000',\n",
       "       '136.00000', '137.00000', '138.00000', '139.00000', '140.00000',\n",
       "       '141.00000', '142.00000', '143.00000', '144.00000', '144.80000',\n",
       "       '145.00000', '146.00000', '147.00000', '148.00000', '148.80000',\n",
       "       '149.00000', '150.00000', '151.00000', '152.00000', '153.00000',\n",
       "       '154.00000', '155.00000', '156.00000', '158.00000', '159.00000',\n",
       "       '160.00000', '160.01000', '161.00000', '162.00000', '163.00000',\n",
       "       '164.00000', '165.00000', '166.00000', '167.00000', '168.00000',\n",
       "       '168.20000', '169.00000', '170.00000', '175.00000', '176.00000',\n",
       "       '176.60000', '177.00000', '178.00000', '180.00000', '181.00000',\n",
       "       '182.00000', '183.00000', '184.00000', '185.00000', '187.00000',\n",
       "       '188.00000', '190.00000', '192.00000', '194.00000', '195.00000',\n",
       "       '196.00000', '197.00000', '198.00000', '199.00000', '200.00000',\n",
       "       '202.00000', '205.00000', '206.00000', '207.00000', '207.90000',\n",
       "       '210.00000', '211.00000', '214.00000', '215.00000', '218.00000',\n",
       "       '218.90000', '219.00000', '220.00000', '221.00000', '224.00000',\n",
       "       '225.00000', '226.00000', '227.00000', '228.00000', '229.00000',\n",
       "       '230.00000', '231.00000', '232.00000', '233.00000', '234.00000',\n",
       "       '235.00000', '238.00000', '239.00000', '240.00000', '241.00000',\n",
       "       '242.00000', '244.00000', '245.00000', '247.00000', '248.00000',\n",
       "       '249.00000', '250.00000', '251.00000', '252.00000', '253.00000',\n",
       "       '254.00000', '255.00000', '256.00000', '257.00000', '258.00000',\n",
       "       '259.00000', '260.00000', '263.00000', '264.00000', '265.00000',\n",
       "       '266.00000', '267.00000', '269.00000', '270.00000', '272.00000',\n",
       "       '274.00000', '275.00000', '277.00000', '278.00000', '279.00000',\n",
       "       '280.00000', '285.00000', '290.00000', '292.00000', '293.00000',\n",
       "       '295.00000', '300.00000', '305.00000', '307.00000', '309.00000',\n",
       "       '310.00000', '312.00000', '314.00000', '315.00000', '316.00000',\n",
       "       '318.00000', '319.00000', '320.00000', '322.00000', '325.00000',\n",
       "       '327.00000', '328.00000', '329.00000', '330.00000', '331.20000',\n",
       "       '335.00000', '336.00000', '340.00000', '342.00000', '350.00000',\n",
       "       '352.00000', '353.00000', '360.00000', '363.00000', '365.00000',\n",
       "       '367.00000', '370.00000', '372.00000', '374.00000', '375.00000',\n",
       "       '380.00000', '381.00000', '382.00000', '385.00000', '386.00000',\n",
       "       '390.00000', '391.00000', '399.00000', '400.00000', '402.00000',\n",
       "       '405.00000', '409.00000', '410.00000', '412.00000', '415.00000',\n",
       "       '418.00000', '420.00000', '423.00000', '424.00000', '425.00000',\n",
       "       '428.00000', '430.00000', '432.00000', '435.00000', '436.00000',\n",
       "       '439.50000', '440.00000', '444.00000', '445.00000', '449.00000',\n",
       "       '450.00000', '455.00000', '460.00000', '461.00000', '462.00000',\n",
       "       '470.00000', '475.00000', '480.00000', '485.00000', '487.00000',\n",
       "       '491.00000', '495.00000', '500.00000', '503.00000', '510.00000',\n",
       "       '511.00000', '513.00000', '515.00000', '516.00000', '520.00000',\n",
       "       '525.00000', '529.00000', '530.00000', '531.00000', '536.00000',\n",
       "       '540.00000', '542.00000', '548.00000', '550.00000', '553.00000',\n",
       "       '556.00000', '560.00000', '561.00000', '562.00000', '566.00000',\n",
       "       '567.00000', '570.00000', '572.00000', '580.00000', '582.00000',\n",
       "       '585.00000', '588.00000', '589.00000', '590.00000', '593.00000',\n",
       "       '596.00000', '600.00000', '601.00000', '605.00000', '607.00000',\n",
       "       '615.00000', '620.00000', '625.00000', '630.00000', '640.00000',\n",
       "       '647.00000', '650.00000', '657.00000', '660.00000', '670.00000',\n",
       "       '675.00000', '680.00000', '684.00000', '685.00000', '700.00000',\n",
       "       '703.00000', '711.00000', '715.00000', '717.00000', '720.00000',\n",
       "       '723.00000', '725.00000', '730.00000', '733.00000', '740.00000',\n",
       "       '750.00000', '752.00000', '760.00000', '770.00000', '775.00000',\n",
       "       '780.00000', '785.00000', '790.00000', '795.00000', '800.00000',\n",
       "       '810.00000', '818.00000', '820.00000', '825.00000', '826.00000',\n",
       "       '835.00000', '843.00000', '850.00000', '854.00000', '870.00000',\n",
       "       '877.00000', '880.00000', '889.00000', '890.00000', '896.00000',\n",
       "       '900.00000', '912.00000', '916.00000', '925.00000', '936.00000',\n",
       "       '950.00000', '953.00000', '975.00000', '980.00000', '990.00000',\n",
       "       '996.00000', '1000.00000', '1008.00000', '1017.00000',\n",
       "       '1025.00000', '1034.00000', '1036.00000', '1045.00000',\n",
       "       '1050.00000', '1066.00000', '1075.00000', '1085.00000',\n",
       "       '1096.00000', '1100.00000', '1112.00000', '1143.00000',\n",
       "       '1150.00000', '1155.00000', '1161.00000', '1167.00000',\n",
       "       '1172.00000', '1175.00000', '1181.00000', '1189.00000',\n",
       "       '1200.00000', '1216.00000', '1220.00000', '1245.00000',\n",
       "       '1250.00000', '1260.00000', '1275.00000', '1300.00000',\n",
       "       '1324.00000', '1333.00000', '1370.00000', '1380.00000',\n",
       "       '1387.00000', '1400.00000', '1425.00000', '1460.00000',\n",
       "       '1475.00000', '1490.00000', '1493.00000', '1500.00000',\n",
       "       '1503.00000', '1528.00000', '1570.00000', '1600.00000',\n",
       "       '1638.00000', '1650.00000', '1672.00000', '1695.00000',\n",
       "       '1700.00000', '1725.00000', '1750.00000', '1754.00000',\n",
       "       '1760.00000', '1765.00000', '1778.00000', '1800.00000',\n",
       "       '1840.00000', '1847.00000', '1850.00000', '1875.00000',\n",
       "       '1900.00000', '1920.00000', '1925.00000', '1940.00000',\n",
       "       '1950.00000', '1970.00000', '1971.00000', '1981.00000',\n",
       "       '1990.00000', '2000.00000', '2001.00000', '2018.00000',\n",
       "       '2053.00000', '2096.00000', '2100.00000', '2105.00000',\n",
       "       '2200.00000', '2250.00000', '2295.00000', '2300.00000',\n",
       "       '2345.00000', '2360.00000', '2400.00000', '2434.00000',\n",
       "       '2436.00000', '2500.00000', '2556.00000', '2600.00000',\n",
       "       '2632.00000', '2650.00000', '2660.00000', '2700.00000',\n",
       "       '2750.00000', '2755.00000', '2767.00000', '2800.00000',\n",
       "       '2850.00000', '2857.00000', '2888.00000', '2900.00000',\n",
       "       '2940.00000', '3000.00000', '3085.00000', '3100.00000',\n",
       "       '3112.00000', '3150.00000', '3200.00000', '3300.00000',\n",
       "       '3375.00000', '3400.00000', '3500.00000', '3570.00000',\n",
       "       '3600.00000', '3750.00000', '3755.00000', '3800.00000',\n",
       "       '3867.00000', '3900.00000', '4000.00000', '4200.00000',\n",
       "       '4204.00000', '4225.00000', '4300.00000', '4360.00000',\n",
       "       '4400.00000', '4500.00000', '4700.00000', '4800.00000',\n",
       "       '4880.00000', '5000.00000', '5200.00000', '5250.00000',\n",
       "       '5260.00000', '5500.00000', '5600.00000', '5668.00000',\n",
       "       '5700.00000', '5800.00000', '6000.00000', '6050.00000',\n",
       "       '6100.00000', '6130.00000', '6200.00000', '6295.00000',\n",
       "       '6300.00000', '6400.00000', '6450.00000', '6458.00000',\n",
       "       '6500.00000', '6550.00000', '6600.00000', '6666.00000',\n",
       "       '6732.00000', '6800.00000', '6820.00000', '7000.00000',\n",
       "       '7070.00000', '7300.00000', '7400.00000', '7500.00000',\n",
       "       '7600.00000', '7700.00000', '7800.00000', '8000.00000',\n",
       "       '8135.00000', '8200.00000', '8400.00000', '8500.00000',\n",
       "       '8600.00000', '8800.00000', '8890.00000', '9000.00000',\n",
       "       '9200.00000', '9300.00000', '9400.00000', '9586.00000',\n",
       "       '9700.00000', '10000.00000', '10180.00000', '10300.00000',\n",
       "       '10400.00000', '10500.00000', '10735.00000', '11000.00000',\n",
       "       '11200.00000', '11500.00000', '12000.00000', '12495.00000',\n",
       "       '13000.00000', '13200.00000', '13500.00000', '13700.00000',\n",
       "       '14000.00000', '15000.00000', '15100.00000', '15600.00000',\n",
       "       '15750.00000', '16000.00000', '16192.00000', '16420.00000',\n",
       "       '17000.00000', '17500.00000', '18000.00000', '18800.00000',\n",
       "       '19000.00000', '20000.00000', '20430.00000', '21000.00000',\n",
       "       '23000.00000', '23425.00000', '23500.00000', '24000.00000',\n",
       "       '24300.00000', '25000.00000', '25080.00000', '25500.00000',\n",
       "       '26000.00000', '26417.00000', '27000.00000', '28000.00000',\n",
       "       '29400.00000', '29830.00000', '30000.00000', '32000.00000',\n",
       "       '32400.00000', '33000.00000', '33480.00000', '35000.00000',\n",
       "       '39000.00000', '39943.00000', '40000.00000', '40106.00000',\n",
       "       '42000.00000', '42548.00000', '43230.00000', '44000.00000',\n",
       "       '45000.00000', '48000.00000', '50000.00000', '52000.00000',\n",
       "       '55000.00000', '55230.00000', '56000.00000', '57000.00000',\n",
       "       '57540.00000', '58000.00000', '60000.00000', '61000.00000',\n",
       "       '61825.00000', '67000.00000', '68000.00000', '70000.00000',\n",
       "       '71000.00000', '72000.00000', '75000.00000', '76400.00000',\n",
       "       '79000.00000', '80000.00000', '82000.00000', '83000.00000',\n",
       "       '85100.00000', '86000.00000', '90000.00000', '100000.00000',\n",
       "       '102760.00000', '108000.00000', '111111.00000', '112000.00000',\n",
       "       '115000.00000', '120000.00000', '136000.00000', '146000.00000',\n",
       "       '150000.00000', '165000.00000', '168000.00000', '175000.00000',\n",
       "       '187000.00000', '191000.00000', '200000.00000', '208000.00000',\n",
       "       '222000.00000', '250000.00000', '263000.00000', '270000.00000',\n",
       "       '275000.00000', '290000.00000', '300000.00000', '310000.00000',\n",
       "       '321000.00000', '376500.00000', '400000.00000', '420000.00000',\n",
       "       '470000.00000', '500000.00000', '550000.00000', '562000.00000',\n",
       "       '600000.00000', '644443.00000', '670000.00000', '727000.00000',\n",
       "       '736000.00000', '750000.00000', '800000.00000', '910000.00000',\n",
       "       '999999.00000', '1000000.00000', '1750000.00000', '2000000.00000',\n",
       "       '2300000.00000', '3000000.00000', '3100000.00000', '3500000.00000',\n",
       "       '6000000.00000', '10000000.00000', '111111111.00000',\n",
       "       '200400000.00000', '100000000000.00000'], dtype=object)"
      ]
     },
     "execution_count": 25,
     "metadata": {},
     "output_type": "execute_result"
    }
   ],
   "source": [
    "data_dropped_missing['quantity'].sort_values().apply(\"{0:.5f}\".format).unique()"
   ]
  },
  {
   "cell_type": "code",
   "execution_count": 26,
   "metadata": {},
   "outputs": [],
   "source": [
    "# data_dropped_missing[\"quantity_cat\"] = pd.cut(data_dropped_missing[\"qunatity\"],\n",
    "#                                bins=[0., 1.5, 3.0, 4.5, 6., np.inf],\n",
    "#                                labels=[1, 2, 3, 4, 5])\n",
    "\n",
    "# Divide by 1.5 to limit the number of income categories\n",
    "data_dropped_missing[\"quantity_cat\"] = np.ceil(data_dropped_missing[\"quantity\"] / 1.5)\n",
    "# Label those above 5 as 5\n",
    "data_dropped_missing[\"quantity_cat\"].where(data_dropped_missing[\"quantity_cat\"] < 3, 3.0, inplace=True)\n"
   ]
  },
  {
   "cell_type": "code",
   "execution_count": 27,
   "metadata": {},
   "outputs": [
    {
     "data": {
      "text/plain": [
       "0.0    99676\n",
       "3.0    56340\n",
       "1.0    19926\n",
       "2.0    10759\n",
       "Name: quantity_cat, dtype: int64"
      ]
     },
     "execution_count": 27,
     "metadata": {},
     "output_type": "execute_result"
    }
   ],
   "source": [
    "data_dropped_missing['quantity_cat'].value_counts()"
   ]
  },
  {
   "cell_type": "code",
   "execution_count": 28,
   "metadata": {},
   "outputs": [
    {
     "data": {
      "text/plain": [
       "<AxesSubplot:>"
      ]
     },
     "execution_count": 28,
     "metadata": {},
     "output_type": "execute_result"
    },
    {
     "data": {
      "image/png": "[encoded data removed]",
      "text/plain": [
       "<Figure size 432x288 with 1 Axes>"
      ]
     },
     "metadata": {
      "needs_background": "light"
     },
     "output_type": "display_data"
    }
   ],
   "source": [
    "data_dropped_missing[\"quantity_cat\"].hist()"
   ]
  },
  {
   "cell_type": "markdown",
   "metadata": {},
   "source": [
    "### Featurize Date Columns\n",
    "\n",
    "##### 1. Split date columns intto year, month , day"
   ]
  },
  {
   "cell_type": "code",
   "execution_count": 29,
   "metadata": {},
   "outputs": [],
   "source": [
    "data_dropped_missing[[\"close_year\", \"close_month\", \"close_day\"]] = data_dropped_missing[\"close_date\"].str.split(\"-\", expand = True)\n",
    "data_dropped_missing[[\"received_year\", \"received_month\", \"received_day\"]] = data_dropped_missing[\"received_date\"].str.split(\"-\", expand = True)\n",
    "data_dropped_missing[[\"spill_year\", \"spill_month\", \"spill_day\"]] = data_dropped_missing[\"spill_date\"].str.split(\"-\", expand = True)"
   ]
  },
  {
   "cell_type": "markdown",
   "metadata": {},
   "source": [
    "#### Drop close_date, spill_date, received_date"
   ]
  },
  {
   "cell_type": "code",
   "execution_count": 30,
   "metadata": {},
   "outputs": [],
   "source": [
    "data_dropped_missing = data_dropped_missing.drop(['close_date', 'received_date', 'spill_date'], axis=1)"
   ]
  },
  {
   "cell_type": "code",
   "execution_count": 31,
   "metadata": {},
   "outputs": [],
   "source": [
    "from sklearn.model_selection import StratifiedShuffleSplit\n",
    "\n",
    "split = StratifiedShuffleSplit(n_splits=1, test_size=0.2, random_state=42)\n",
    "for train_index, test_index in split.split(data_dropped_missing, data_dropped_missing[[\"quantity_cat\", \"contributing_factor\",'recovered']]):\n",
    "    strat_train = data_dropped_missing.reindex(train_index)\n",
    "    strat_test_set = data_dropped_missing.reindex(test_index)\n",
    "\n",
    "#### Drop nans    ##\n",
    "sample_incomplete_rows_indexes = strat_train[strat_train.isnull().any(axis=1)].index #.head()\n",
    "strat_train = strat_train.drop(sample_incomplete_rows_indexes)\n",
    "    \n",
    "for train_index, test_index in split.split(strat_train, strat_train[[\"quantity_cat\", \"contributing_factor\",'recovered']]):\n",
    "    strat_train_set = strat_train.reindex(train_index)\n",
    "    strat_val_set = strat_train.reindex(test_index)    "
   ]
  },
  {
   "cell_type": "markdown",
   "metadata": {},
   "source": [
    "# Prepare the data for Machine Learning algorithms"
   ]
  },
  {
   "cell_type": "code",
   "execution_count": 32,
   "metadata": {},
   "outputs": [],
   "source": [
    "X_train = strat_train_set.drop(\"recovered\", axis=1) # drop labels for training set\n",
    "y_train = strat_train_set[\"recovered\"].copy()\n",
    "\n",
    "X_val = strat_val_set.drop(\"recovered\", axis=1) # drop labels for validation set\n",
    "y_val = strat_val_set[\"recovered\"].copy()\n",
    "\n",
    "X_test = strat_test_set.drop(\"recovered\", axis=1) # drop labels for validation set\n",
    "y_test = strat_test_set[\"recovered\"].copy()"
   ]
  },
  {
   "cell_type": "code",
   "execution_count": 33,
   "metadata": {},
   "outputs": [],
   "source": [
    "## find and drop null values\n",
    "sample_incomplete_rows_indexes = X_train[X_train.isnull().any(axis=1)].index #.head()\n",
    "X_train = X_train.drop(sample_incomplete_rows_indexes)\n",
    "y_train = y_train.drop(sample_incomplete_rows_indexes)\n",
    "# spill_data.tail()\n",
    "\n",
    "sample_incomplete_rows_indexes = X_val[X_val.isnull().any(axis=1)].index #.head()\n",
    "X_val = X_val.drop(sample_incomplete_rows_indexes)\n",
    "y_val = y_val.drop(sample_incomplete_rows_indexes)\n",
    "\n",
    "sample_incomplete_rows_indexes = X_test[X_test.isnull().any(axis=1)].index #.head()\n",
    "X_test = X_test.drop(sample_incomplete_rows_indexes)\n",
    "y_test = y_test.drop(sample_incomplete_rows_indexes)"
   ]
  },
  {
   "cell_type": "code",
   "execution_count": 34,
   "metadata": {},
   "outputs": [
    {
     "name": "stdout",
     "output_type": "stream",
     "text": [
      "X_train : (94739, 23)\n",
      "X_test  : (37135, 23)\n",
      "X_val   : (23612, 23)\n"
     ]
    }
   ],
   "source": [
    "print('X_train :', X_train.shape)\n",
    "print('X_test  :', X_test.shape)\n",
    "print('X_val   :', X_val.shape)"
   ]
  },
  {
   "cell_type": "markdown",
   "metadata": {},
   "source": [
    "#### Encoding categorical variables"
   ]
  },
  {
   "cell_type": "markdown",
   "metadata": {},
   "source": [
    "#### `DataFrameSelector` transforms the data by selecting the desired attributes, dropping the rest, and converting the resulting DataFrame to a Numpy array"
   ]
  },
  {
   "cell_type": "code",
   "execution_count": 35,
   "metadata": {},
   "outputs": [],
   "source": [
    "from sklearn.base import BaseEstimator, TransformerMixin\n",
    "\n",
    "# Create a class to select numerical or categorical columns \n",
    "class DataFrameSelector(BaseEstimator, TransformerMixin):\n",
    "    def __init__(self, attribute_names):\n",
    "        self.attribute_names = attribute_names\n",
    "    def fit(self, X, y=None):\n",
    "        return self\n",
    "    def transform(self, X):\n",
    "        return X[self.attribute_names].values"
   ]
  },
  {
   "cell_type": "markdown",
   "metadata": {},
   "source": [
    "###     The Pipeline module wraps an entire workflow in a single object."
   ]
  },
  {
   "cell_type": "code",
   "execution_count": 36,
   "metadata": {},
   "outputs": [],
   "source": [
    "from sklearn.pipeline import Pipeline\n",
    "from sklearn.preprocessing import StandardScaler, OrdinalEncoder, OneHotEncoder\n",
    "\n",
    "try:\n",
    "    numerical_features.extend([\"close_year\", \"close_month\", \"close_day\", \"received_year\", \"received_month\", \"received_day\",\\\n",
    "                              \"spill_year\", \"spill_month\", \"spill_day\"])\n",
    "    numerical_features.remove('quantity')\n",
    "    categorical_features.remove('zip_code')\n",
    "    categorical_features.remove('waterbody')\n",
    "    categorical_features.remove('recovered')\n",
    "    text_features.remove('street_2')\n",
    "except:\n",
    "    pass\n",
    "categorical_features_ordinal = ['quantity_cat']"
   ]
  },
  {
   "cell_type": "code",
   "execution_count": 37,
   "metadata": {},
   "outputs": [],
   "source": [
    "############# Transformation Pipeline for numerical features ###########\n",
    "num_pipeline = Pipeline([\n",
    "        ('selector', DataFrameSelector(numerical_features)),\n",
    "        ('std_scaler', StandardScaler()),\n",
    "    ])"
   ]
  },
  {
   "cell_type": "code",
   "execution_count": 38,
   "metadata": {},
   "outputs": [],
   "source": [
    "############ Transformation pipeline for Ordinal categorical features ##########\n",
    "ord_cat_pipeline = Pipeline([\n",
    "        ('selector', DataFrameSelector(categorical_features_ordinal)),\n",
    "        ('ord_cat_encoder', OrdinalEncoder(handle_unknown=\"ignore\")),\n",
    "    ])"
   ]
  },
  {
   "cell_type": "code",
   "execution_count": 39,
   "metadata": {},
   "outputs": [],
   "source": [
    "############ Transformation pipeline for remaining categorical features ##########\n",
    "cat_pipeline = Pipeline([\n",
    "        ('selector', DataFrameSelector(categorical_features)),\n",
    "        ('ohe_cat_encoder', OneHotEncoder(handle_unknown=\"ignore\",sparse=False)),\n",
    "    ])"
   ]
  },
  {
   "cell_type": "code",
   "execution_count": 40,
   "metadata": {},
   "outputs": [],
   "source": [
    "from sklearn.feature_extraction.text import TfidfTransformer\n",
    "from sklearn.feature_extraction.text import CountVectorizer\n",
    "\n",
    "\n",
    "############ Transformation pipeline for text features (program_facility_name) ##########\n",
    "\n",
    "text_pipeline_f1 = Pipeline([('selector', DataFrameSelector(\"program_facility_name\")),\n",
    "                             ('count_1', CountVectorizer(binary=True, min_df=10)),\n",
    "                  ('tfid_1', TfidfTransformer(use_idf=True))])\n",
    "\n",
    "\n",
    "text_pipeline_f2 = Pipeline([('selector', DataFrameSelector(\"street_1\")),\n",
    "                            ('count_2', CountVectorizer(binary=True,min_df=10)),\n",
    "                  ('tfid_2', TfidfTransformer(use_idf=True))])\n"
   ]
  },
  {
   "cell_type": "markdown",
   "metadata": {},
   "source": [
    "### Combining above pipelines into single pipeline using `FeatureUnion`\n",
    "\n",
    "##### Give it a list of transformer pipelines, when it's transform() method is called it runs each transformers transform method in parallel, waits for their output, and then concatenates them and returns the result"
   ]
  },
  {
   "cell_type": "code",
   "execution_count": 41,
   "metadata": {},
   "outputs": [
    {
     "data": {
      "text/plain": [
       "['full_pipeline.pkl']"
      ]
     },
     "execution_count": 41,
     "metadata": {},
     "output_type": "execute_result"
    }
   ],
   "source": [
    "from sklearn.pipeline import FeatureUnion\n",
    "\n",
    "full_pipeline = FeatureUnion(transformer_list=[\n",
    "        (\"num_pipeline\", num_pipeline),\n",
    "        (\"cat_pipeline\", cat_pipeline),\n",
    "        (\"ord_cat_pipeline\" ,ord_cat_pipeline),\n",
    "        (\"text_pipeline_f1\", text_pipeline_f1),\n",
    "        (\"text_pipeline_f2\", text_pipeline_f2)\n",
    "    ])\n",
    "\n",
    "# save the model to disk\n",
    "filename = 'full_pipeline.pkl'\n",
    "joblib.dump(full_pipeline, filename)"
   ]
  },
  {
   "cell_type": "markdown",
   "metadata": {},
   "source": [
    "#### Fit and transform the features"
   ]
  },
  {
   "cell_type": "code",
   "execution_count": 42,
   "metadata": {},
   "outputs": [],
   "source": [
    "X_train_tr = full_pipeline.fit_transform(X_train)"
   ]
  },
  {
   "cell_type": "code",
   "execution_count": 43,
   "metadata": {},
   "outputs": [
    {
     "name": "stdout",
     "output_type": "stream",
     "text": [
      "(94739, 11738)\n",
      "(94739,)\n"
     ]
    }
   ],
   "source": [
    "print(X_train_tr.shape)\n",
    "print(y_train.shape)"
   ]
  },
  {
   "cell_type": "markdown",
   "metadata": {},
   "source": [
    "#### Training classifier"
   ]
  },
  {
   "cell_type": "code",
   "execution_count": 44,
   "metadata": {},
   "outputs": [
    {
     "data": {
      "text/plain": [
       "SGDClassifier(max_iter=5, random_state=42, tol=-inf)"
      ]
     },
     "execution_count": 44,
     "metadata": {},
     "output_type": "execute_result"
    }
   ],
   "source": [
    "from sklearn.linear_model import SGDClassifier\n",
    "\n",
    "sgd_clf = SGDClassifier(max_iter=5, tol=-np.infty, random_state=42)\n",
    "sgd_clf.fit(X_train_tr, y_train)\n",
    "# log_reg.fit(spill_data_prepared, spill_labels)"
   ]
  },
  {
   "cell_type": "code",
   "execution_count": 45,
   "metadata": {},
   "outputs": [
    {
     "name": "stdout",
     "output_type": "stream",
     "text": [
      "Predictions: [0 0 0 0 0]\n"
     ]
    }
   ],
   "source": [
    "# let's try the full preprocessing pipeline on a few training instances\n",
    "some_data = X_train.iloc[:5]\n",
    "some_labels = y_train.iloc[:5]\n",
    "some_data_prepared = full_pipeline.transform(some_data)\n",
    "\n",
    "print(\"Predictions:\", sgd_clf.predict(some_data_prepared))"
   ]
  },
  {
   "cell_type": "markdown",
   "metadata": {},
   "source": [
    "#### Cross validation"
   ]
  },
  {
   "cell_type": "code",
   "execution_count": 46,
   "metadata": {},
   "outputs": [
    {
     "data": {
      "text/plain": [
       "array([0.87583914, 0.86931602, 0.87843187])"
      ]
     },
     "execution_count": 46,
     "metadata": {},
     "output_type": "execute_result"
    }
   ],
   "source": [
    "from sklearn.model_selection import cross_val_score\n",
    "cross_val_score(sgd_clf, X_train_tr, y_train, cv=3, scoring=\"accuracy\")"
   ]
  },
  {
   "cell_type": "code",
   "execution_count": 47,
   "metadata": {},
   "outputs": [],
   "source": [
    "from sklearn.model_selection import cross_val_predict\n",
    "\n",
    "y_train_pred = cross_val_predict(sgd_clf, X_train_tr, y_train, cv=3)"
   ]
  },
  {
   "cell_type": "markdown",
   "metadata": {},
   "source": [
    "#### Confusion matrix"
   ]
  },
  {
   "cell_type": "code",
   "execution_count": 48,
   "metadata": {},
   "outputs": [
    {
     "data": {
      "text/plain": [
       "array([[79609,  3963],\n",
       "       [ 7924,  3243]], dtype=int64)"
      ]
     },
     "execution_count": 48,
     "metadata": {},
     "output_type": "execute_result"
    }
   ],
   "source": [
    "from sklearn.metrics import confusion_matrix, recall_score, precision_score\n",
    "\n",
    "confusion_matrix(y_train, y_train_pred)"
   ]
  },
  {
   "cell_type": "markdown",
   "metadata": {},
   "source": [
    "#### Precision score"
   ]
  },
  {
   "cell_type": "code",
   "execution_count": 49,
   "metadata": {},
   "outputs": [
    {
     "data": {
      "text/plain": [
       "0.45004163197335556"
      ]
     },
     "execution_count": 49,
     "metadata": {},
     "output_type": "execute_result"
    }
   ],
   "source": [
    "precision_score(y_train, y_train_pred)"
   ]
  },
  {
   "cell_type": "markdown",
   "metadata": {},
   "source": [
    "#### Recall score"
   ]
  },
  {
   "cell_type": "code",
   "execution_count": 50,
   "metadata": {},
   "outputs": [
    {
     "data": {
      "text/plain": [
       "0.29040924151517866"
      ]
     },
     "execution_count": 50,
     "metadata": {},
     "output_type": "execute_result"
    }
   ],
   "source": [
    "recall_score(y_train, y_train_pred)"
   ]
  },
  {
   "cell_type": "markdown",
   "metadata": {},
   "source": [
    "#### F1-score"
   ]
  },
  {
   "cell_type": "code",
   "execution_count": 51,
   "metadata": {},
   "outputs": [
    {
     "data": {
      "text/plain": [
       "0.3530180155663202"
      ]
     },
     "execution_count": 51,
     "metadata": {},
     "output_type": "execute_result"
    }
   ],
   "source": [
    "from sklearn.metrics import f1_score\n",
    "f1_score(y_train, y_train_pred)"
   ]
  },
  {
   "cell_type": "code",
   "execution_count": 52,
   "metadata": {},
   "outputs": [],
   "source": [
    "from sklearn.ensemble import RandomForestClassifier\n",
    "from sklearn.model_selection import cross_val_predict\n",
    "forest_clf = RandomForestClassifier(random_state=42)\n",
    "y_probas_forest = cross_val_predict(forest_clf, X_train_tr, y_train, cv=3,\n",
    "                                    method=\"predict_proba\")"
   ]
  },
  {
   "cell_type": "code",
   "execution_count": 53,
   "metadata": {},
   "outputs": [],
   "source": [
    "from sklearn.metrics import roc_curve\n",
    "y_scores_forest = y_probas_forest[:, 1] # score = proba of positive class\n",
    "fpr_forest, tpr_forest, thresholds_forest = roc_curve(y_train,y_scores_forest)"
   ]
  },
  {
   "cell_type": "code",
   "execution_count": 60,
   "metadata": {},
   "outputs": [
    {
     "name": "stdout",
     "output_type": "stream",
     "text": [
      "Saving figure roc_curve_comparison_plot\n"
     ]
    },
    {
     "data": {
      "image/png": "[encoded data removed]",
      "text/plain": [
       "<Figure size 576x432 with 1 Axes>"
      ]
     },
     "metadata": {
      "needs_background": "light"
     },
     "output_type": "display_data"
    }
   ],
   "source": [
    "def plot_roc_curve(fpr, tpr, label=None):\n",
    "    plt.plot(fpr, tpr, linewidth=2, label=label)\n",
    "    plt.plot([0, 1], [0, 1], 'k--')\n",
    "    plt.axis([0, 1, 0, 1])\n",
    "    plt.xlabel('False Positive Rate', fontsize=16)\n",
    "    plt.ylabel('True Positive Rate', fontsize=16)\n",
    "\n",
    "plt.figure(figsize=(8, 6))\n",
    "# plt.plot(fpr, tpr, \"b:\", linewidth=2, label=\"SGD\")\n",
    "plot_roc_curve(fpr_forest, tpr_forest, \"Random Forest\")\n",
    "plt.legend(loc=\"lower right\", fontsize=16)\n",
    "save_fig(\"roc_curve_comparison_plot\")\n",
    "plt.show()"
   ]
  },
  {
   "cell_type": "markdown",
   "metadata": {},
   "source": [
    "### Evaluating model on validation set"
   ]
  },
  {
   "cell_type": "markdown",
   "metadata": {},
   "source": [
    "#### Transform validation data"
   ]
  },
  {
   "cell_type": "code",
   "execution_count": 61,
   "metadata": {},
   "outputs": [],
   "source": [
    "X_val_tr = full_pipeline.transform(X_val)"
   ]
  },
  {
   "cell_type": "markdown",
   "metadata": {},
   "source": [
    "#### Cross validation on validation set"
   ]
  },
  {
   "cell_type": "code",
   "execution_count": 62,
   "metadata": {},
   "outputs": [
    {
     "data": {
      "text/plain": [
       "array([0.86062762, 0.87574641, 0.88043202])"
      ]
     },
     "execution_count": 62,
     "metadata": {},
     "output_type": "execute_result"
    }
   ],
   "source": [
    "cross_val_score(sgd_clf, X_val_tr, y_val, cv=3, scoring=\"accuracy\")"
   ]
  },
  {
   "cell_type": "markdown",
   "metadata": {},
   "source": [
    "#### Validation set Confusion matrix"
   ]
  },
  {
   "cell_type": "code",
   "execution_count": 63,
   "metadata": {},
   "outputs": [
    {
     "data": {
      "text/plain": [
       "array([[20137,   685],\n",
       "       [ 2331,   459]], dtype=int64)"
      ]
     },
     "execution_count": 63,
     "metadata": {},
     "output_type": "execute_result"
    }
   ],
   "source": [
    "y_val_pred = cross_val_predict(sgd_clf, X_val_tr, y_val, cv=3)\n",
    "confusion_matrix(y_val, y_val_pred)"
   ]
  },
  {
   "cell_type": "markdown",
   "metadata": {},
   "source": [
    "#### Validation set Precision score"
   ]
  },
  {
   "cell_type": "code",
   "execution_count": 64,
   "metadata": {},
   "outputs": [
    {
     "data": {
      "text/plain": [
       "0.4012237762237762"
      ]
     },
     "execution_count": 64,
     "metadata": {},
     "output_type": "execute_result"
    }
   ],
   "source": [
    "precision_score(y_val, y_val_pred)"
   ]
  },
  {
   "cell_type": "markdown",
   "metadata": {},
   "source": [
    "#### Validation set recall score"
   ]
  },
  {
   "cell_type": "code",
   "execution_count": 65,
   "metadata": {},
   "outputs": [
    {
     "data": {
      "text/plain": [
       "0.16451612903225807"
      ]
     },
     "execution_count": 65,
     "metadata": {},
     "output_type": "execute_result"
    }
   ],
   "source": [
    "recall_score(y_val, y_val_pred)"
   ]
  },
  {
   "cell_type": "markdown",
   "metadata": {},
   "source": [
    "#### Validation set F1 score"
   ]
  },
  {
   "cell_type": "code",
   "execution_count": 66,
   "metadata": {},
   "outputs": [
    {
     "data": {
      "text/plain": [
       "0.2333502796136248"
      ]
     },
     "execution_count": 66,
     "metadata": {},
     "output_type": "execute_result"
    }
   ],
   "source": [
    "f1_score(y_val, y_val_pred)"
   ]
  },
  {
   "cell_type": "code",
   "execution_count": 67,
   "metadata": {},
   "outputs": [],
   "source": [
    "y_scores = cross_val_predict(sgd_clf, X_val_tr, y_val, cv=3,\n",
    "                             method=\"decision_function\")"
   ]
  },
  {
   "cell_type": "markdown",
   "metadata": {},
   "source": [
    "#### Precision Recall curve"
   ]
  },
  {
   "cell_type": "code",
   "execution_count": 68,
   "metadata": {},
   "outputs": [],
   "source": [
    "from sklearn.metrics import precision_recall_curve\n",
    "\n",
    "precisions, recalls, thresholds = precision_recall_curve(y_val, y_scores)"
   ]
  },
  {
   "cell_type": "markdown",
   "metadata": {},
   "source": [
    "#### Plot precision recall vs threshold"
   ]
  },
  {
   "cell_type": "code",
   "execution_count": 69,
   "metadata": {},
   "outputs": [
    {
     "name": "stdout",
     "output_type": "stream",
     "text": [
      "Saving figure precision_recall_vs_threshold_plot\n"
     ]
    },
    {
     "data": {
      "image/png": "[encoded data removed]",
      "text/plain": [
       "<Figure size 576x288 with 1 Axes>"
      ]
     },
     "metadata": {
      "needs_background": "light"
     },
     "output_type": "display_data"
    }
   ],
   "source": [
    "def plot_precision_recall_vs_threshold(precisions, recalls, thresholds):\n",
    "    plt.plot(thresholds, precisions[:-1], \"b--\", label=\"Precision\", linewidth=2)\n",
    "    plt.plot(thresholds, recalls[:-1], \"g-\", label=\"Recall\", linewidth=2)\n",
    "    plt.xlabel(\"Threshold\", fontsize=16)\n",
    "    plt.legend(loc=\"upper left\", fontsize=16)\n",
    "    plt.ylim([0, 1])\n",
    "\n",
    "plt.figure(figsize=(8, 4))\n",
    "plot_precision_recall_vs_threshold(precisions, recalls, thresholds)\n",
    "plt.xlim([-20, 20])\n",
    "save_fig(\"precision_recall_vs_threshold_plot\")\n",
    "plt.show()"
   ]
  },
  {
   "cell_type": "code",
   "execution_count": 70,
   "metadata": {},
   "outputs": [
    {
     "data": {
      "text/plain": [
       "array([-7.21764919, -8.14789011, -4.25510259, ..., -7.39079059,\n",
       "       -6.73555842, -6.44229187])"
      ]
     },
     "execution_count": 70,
     "metadata": {},
     "output_type": "execute_result"
    }
   ],
   "source": [
    "y_scores"
   ]
  },
  {
   "cell_type": "code",
   "execution_count": 71,
   "metadata": {},
   "outputs": [],
   "source": [
    "y_val_pred_40 = (y_scores > -5)"
   ]
  },
  {
   "cell_type": "code",
   "execution_count": 72,
   "metadata": {},
   "outputs": [
    {
     "data": {
      "text/plain": [
       "0.17644359464627152"
      ]
     },
     "execution_count": 72,
     "metadata": {},
     "output_type": "execute_result"
    }
   ],
   "source": [
    "precision_score(y_val, y_val_pred_40)"
   ]
  },
  {
   "cell_type": "code",
   "execution_count": 73,
   "metadata": {},
   "outputs": [
    {
     "data": {
      "text/plain": [
       "0.8268817204301075"
      ]
     },
     "execution_count": 73,
     "metadata": {},
     "output_type": "execute_result"
    }
   ],
   "source": [
    "recall_score(y_val, y_val_pred_40)"
   ]
  },
  {
   "cell_type": "markdown",
   "metadata": {},
   "source": [
    "#### ROC curves"
   ]
  },
  {
   "cell_type": "code",
   "execution_count": 74,
   "metadata": {},
   "outputs": [],
   "source": [
    "from sklearn.metrics import roc_curve\n",
    "\n",
    "fpr, tpr, thresholds = roc_curve(y_val, y_scores)"
   ]
  },
  {
   "cell_type": "code",
   "execution_count": 75,
   "metadata": {},
   "outputs": [
    {
     "name": "stdout",
     "output_type": "stream",
     "text": [
      "Saving figure roc_curve_plot\n"
     ]
    },
    {
     "data": {
      "image/png": "[encoded data removed]",
      "text/plain": [
       "<Figure size 576x432 with 1 Axes>"
      ]
     },
     "metadata": {
      "needs_background": "light"
     },
     "output_type": "display_data"
    }
   ],
   "source": [
    "plt.figure(figsize=(8, 6))\n",
    "plot_roc_curve(fpr, tpr)\n",
    "save_fig(\"roc_curve_plot\")\n",
    "plt.show()"
   ]
  },
  {
   "cell_type": "markdown",
   "metadata": {},
   "source": [
    "#### AUC score"
   ]
  },
  {
   "cell_type": "code",
   "execution_count": 76,
   "metadata": {},
   "outputs": [
    {
     "data": {
      "text/plain": [
       "0.7325789788784884"
      ]
     },
     "execution_count": 76,
     "metadata": {},
     "output_type": "execute_result"
    }
   ],
   "source": [
    "from sklearn.metrics import roc_auc_score\n",
    "\n",
    "roc_auc_score(y_val, y_scores)"
   ]
  },
  {
   "cell_type": "code",
   "execution_count": 77,
   "metadata": {},
   "outputs": [],
   "source": [
    "y_probas_forest = cross_val_predict(forest_clf, X_val_tr, y_val, cv=3,\n",
    "                                    method=\"predict_proba\")\n",
    "\n",
    "y_scores_forest = y_probas_forest[:, 1] # score = proba of positive class\n",
    "fpr_forest, tpr_forest, thresholds_forest = roc_curve(y_val,y_scores_forest)"
   ]
  },
  {
   "cell_type": "code",
   "execution_count": 78,
   "metadata": {},
   "outputs": [
    {
     "name": "stdout",
     "output_type": "stream",
     "text": [
      "Saving figure roc_curve_comparison_plot\n"
     ]
    },
    {
     "data": {
      "image/png": "[encoded data removed]",
      "text/plain": [
       "<Figure size 576x432 with 1 Axes>"
      ]
     },
     "metadata": {
      "needs_background": "light"
     },
     "output_type": "display_data"
    }
   ],
   "source": [
    "plt.figure(figsize=(8, 6))\n",
    "plt.plot(fpr, tpr, \"b:\", linewidth=2, label=\"SGD\")\n",
    "plot_roc_curve(fpr_forest, tpr_forest, \"Random Forest\")\n",
    "plt.legend(loc=\"lower right\", fontsize=16)\n",
    "save_fig(\"roc_curve_comparison_plot\")\n",
    "plt.show()"
   ]
  },
  {
   "cell_type": "markdown",
   "metadata": {},
   "source": [
    "#### Random Forest is performing better than SGD classifier"
   ]
  },
  {
   "cell_type": "markdown",
   "metadata": {},
   "source": [
    "#### Hyperparameter tuning Random Forest"
   ]
  },
  {
   "cell_type": "code",
   "execution_count": 79,
   "metadata": {},
   "outputs": [
    {
     "name": "stdout",
     "output_type": "stream",
     "text": [
      "{'n_estimators': 7, 'max_features': 'auto', 'max_depth': 10, 'bootstrap': True}\n"
     ]
    }
   ],
   "source": [
    "from sklearn.model_selection import RandomizedSearchCV\n",
    "\n",
    "param_grid = {  'bootstrap': [True], 'max_depth': [5, 10, 15, 20], 'max_features': ['auto', 'log2'], 'n_estimators': [5, 6, 7, 8, 9, 10, 11, 12, 13, 15]}\n",
    "\n",
    "# Call RandomizedSearchCV\n",
    "random_search = RandomizedSearchCV(forest_clf, param_grid)\n",
    "\n",
    "# Fit the model\n",
    "random_search.fit(X_val_tr,y_val)\n",
    "\n",
    "# Print best parameters\n",
    "print(random_search.best_params_)"
   ]
  },
  {
   "cell_type": "markdown",
   "metadata": {},
   "source": [
    "# Final Model with Best hyperparameters for Random Forest"
   ]
  },
  {
   "cell_type": "code",
   "execution_count": 80,
   "metadata": {},
   "outputs": [],
   "source": [
    "final_train_data = pd.concat([X_train, X_val])\n",
    "final_labels = pd.concat([y_train, y_val])"
   ]
  },
  {
   "cell_type": "code",
   "execution_count": 81,
   "metadata": {},
   "outputs": [],
   "source": [
    "final_train_data_tr = full_pipeline.transform(final_train_data)"
   ]
  },
  {
   "cell_type": "code",
   "execution_count": 82,
   "metadata": {},
   "outputs": [],
   "source": [
    "final_forest_clf = RandomForestClassifier(n_estimators=13, max_features='auto', max_depth=20, bootstrap=True, random_state=42)\n",
    "y_probas_forest = cross_val_predict(final_forest_clf, final_train_data_tr, final_labels, cv=3,\n",
    "                                    method=\"predict_proba\")"
   ]
  },
  {
   "cell_type": "markdown",
   "metadata": {},
   "source": [
    "### Transform unseen test set"
   ]
  },
  {
   "cell_type": "code",
   "execution_count": 83,
   "metadata": {},
   "outputs": [],
   "source": [
    "X_test_tr = full_pipeline.transform(X_test)"
   ]
  },
  {
   "cell_type": "code",
   "execution_count": 84,
   "metadata": {},
   "outputs": [],
   "source": [
    "y_probas_forest = cross_val_predict(final_forest_clf, X_test_tr, y_test, cv=3,\n",
    "                                    method=\"predict_proba\")\n",
    "\n",
    "y_scores_forest = y_probas_forest[:, 1] # score = proba of positive class\n",
    "fpr_forest, tpr_forest, thresholds_forest = roc_curve(y_test,y_scores_forest)"
   ]
  },
  {
   "cell_type": "code",
   "execution_count": 85,
   "metadata": {},
   "outputs": [
    {
     "name": "stdout",
     "output_type": "stream",
     "text": [
      "Saving figure roc_curve_comparison_plot\n"
     ]
    },
    {
     "data": {
      "image/png": "[encoded data removed]",
      "text/plain": [
       "<Figure size 576x432 with 1 Axes>"
      ]
     },
     "metadata": {
      "needs_background": "light"
     },
     "output_type": "display_data"
    }
   ],
   "source": [
    "plt.figure(figsize=(8, 6))\n",
    "plot_roc_curve(fpr_forest, tpr_forest, \"Random Forest\")\n",
    "plt.legend(loc=\"lower right\", fontsize=16)\n",
    "save_fig(\"roc_curve_comparison_plot\")\n",
    "plt.show()"
   ]
  },
  {
   "cell_type": "markdown",
   "metadata": {},
   "source": [
    "#### Test set confusion matrix"
   ]
  },
  {
   "cell_type": "code",
   "execution_count": 86,
   "metadata": {},
   "outputs": [
    {
     "data": {
      "text/plain": [
       "array([[32726,     9],\n",
       "       [ 4339,    61]], dtype=int64)"
      ]
     },
     "execution_count": 86,
     "metadata": {},
     "output_type": "execute_result"
    }
   ],
   "source": [
    "y_test_pred = cross_val_predict(final_forest_clf, X_test_tr, y_test, cv=3)\n",
    "confusion_matrix(y_test, y_test_pred)"
   ]
  },
  {
   "cell_type": "markdown",
   "metadata": {},
   "source": [
    "#### Precision score"
   ]
  },
  {
   "cell_type": "code",
   "execution_count": 87,
   "metadata": {},
   "outputs": [
    {
     "data": {
      "text/plain": [
       "0.8714285714285714"
      ]
     },
     "execution_count": 87,
     "metadata": {},
     "output_type": "execute_result"
    }
   ],
   "source": [
    "precision_score(y_test, y_test_pred)"
   ]
  },
  {
   "cell_type": "code",
   "execution_count": 88,
   "metadata": {},
   "outputs": [
    {
     "data": {
      "text/plain": [
       "0.013863636363636364"
      ]
     },
     "execution_count": 88,
     "metadata": {},
     "output_type": "execute_result"
    }
   ],
   "source": [
    "recall_score(y_test, y_test_pred)"
   ]
  },
  {
   "cell_type": "markdown",
   "metadata": {},
   "source": [
    "### F1 score"
   ]
  },
  {
   "cell_type": "code",
   "execution_count": 89,
   "metadata": {},
   "outputs": [
    {
     "data": {
      "text/plain": [
       "0.02729306487695749"
      ]
     },
     "execution_count": 89,
     "metadata": {},
     "output_type": "execute_result"
    }
   ],
   "source": [
    "f1_score(y_test, y_test_pred)"
   ]
  },
  {
   "cell_type": "markdown",
   "metadata": {},
   "source": [
    "#### Precision is high over here, we can adjust the threshold to maintain precision - recall tradeoff"
   ]
  },
  {
   "cell_type": "code",
   "execution_count": 90,
   "metadata": {},
   "outputs": [
    {
     "data": {
      "text/plain": [
       "['finalized_model.sav']"
      ]
     },
     "execution_count": 90,
     "metadata": {},
     "output_type": "execute_result"
    }
   ],
   "source": [
    "# save the model to disk\n",
    "filename = 'finalized_model.sav'\n",
    "joblib.dump(final_forest_clf, filename)"
   ]
  }
 ],
 "metadata": {
  "kernelspec": {
   "display_name": "emerson",
   "language": "python",
   "name": "emerson"
  },
  "language_info": {
   "codemirror_mode": {
    "name": "ipython",
    "version": 3
   },
   "file_extension": ".py",
   "mimetype": "text/x-python",
   "name": "python",
   "nbconvert_exporter": "python",
   "pygments_lexer": "ipython3",
   "version": "3.7.3"
  }
 },
 "nbformat": 4,
 "nbformat_minor": 2
}
